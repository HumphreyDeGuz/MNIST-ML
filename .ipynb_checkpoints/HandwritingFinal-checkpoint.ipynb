{
 "cells": [
  {
   "cell_type": "code",
   "execution_count": 1,
   "metadata": {},
   "outputs": [],
   "source": [
    "import pandas as pd\n",
    "import numpy as np\n",
    "import tensorflow as tf\n",
    "import cv2\n",
    "import os\n",
    "from mlxtend.data import loadlocal_mnist\n",
    "from tensorflow import keras\n",
    "from sklearn.model_selection import train_test_split"
   ]
  },
  {
   "cell_type": "code",
   "execution_count": 2,
   "metadata": {},
   "outputs": [],
   "source": [
    "from matplotlib import pyplot as plt"
   ]
  },
  {
   "cell_type": "code",
   "execution_count": 3,
   "metadata": {},
   "outputs": [],
   "source": [
    "from sklearn.linear_model import LogisticRegression\n",
    "from sklearn.svm import SVC\n",
    "from sklearn.ensemble import RandomForestClassifier\n",
    "from sklearn.metrics import accuracy_score"
   ]
  },
  {
   "cell_type": "code",
   "execution_count": 4,
   "metadata": {},
   "outputs": [],
   "source": [
    "X, y = loadlocal_mnist(\n",
    "            images_path='train-images.idx3-ubyte', \n",
    "            labels_path='train-labels.idx1-ubyte')"
   ]
  },
  {
   "cell_type": "code",
   "execution_count": 5,
   "metadata": {},
   "outputs": [],
   "source": [
    "X_test,y_test = loadlocal_mnist(\n",
    "            images_path='t10k-images.idx3-ubyte', \n",
    "            labels_path='t10k-labels.idx1-ubyte')"
   ]
  },
  {
   "cell_type": "code",
   "execution_count": 6,
   "metadata": {},
   "outputs": [],
   "source": [
    "forPlot = X.reshape(60000,28,28)"
   ]
  },
  {
   "cell_type": "code",
   "execution_count": 7,
   "metadata": {},
   "outputs": [
    {
     "data": {
      "image/png": "[encoded data removed]",
      "text/plain": [
       "<Figure size 432x288 with 1 Axes>"
      ]
     },
     "metadata": {
      "needs_background": "light"
     },
     "output_type": "display_data"
    }
   ],
   "source": [
    "plt.imshow(forPlot[0], cmap='gray')\n",
    "plt.show()"
   ]
  },
  {
   "cell_type": "code",
   "execution_count": 22,
   "metadata": {},
   "outputs": [
    {
     "name": "stdout",
     "output_type": "stream",
     "text": [
      "Wall time: 3min 9s\n"
     ]
    },
    {
     "name": "stderr",
     "output_type": "stream",
     "text": [
      "D:\\Coding\\Anaconda\\anaconda3\\lib\\site-packages\\sklearn\\linear_model\\_sag.py:329: ConvergenceWarning: The max_iter was reached which means the coef_ did not converge\n",
      "  warnings.warn(\"The max_iter was reached which means \"\n"
     ]
    }
   ],
   "source": [
    "%%time\n",
    "logReg = LogisticRegression(solver='saga').fit(X,y)"
   ]
  },
  {
   "cell_type": "code",
   "execution_count": 9,
   "metadata": {},
   "outputs": [
    {
     "name": "stdout",
     "output_type": "stream",
     "text": [
      "Wall time: 4min 35s\n"
     ]
    }
   ],
   "source": [
    "%%time\n",
    "simpleVec = SVC().fit(X,y)"
   ]
  },
  {
   "cell_type": "code",
   "execution_count": 15,
   "metadata": {},
   "outputs": [
    {
     "name": "stdout",
     "output_type": "stream",
     "text": [
      "Wall time: 32.3 s\n"
     ]
    }
   ],
   "source": [
    "%%time\n",
    "rngForest = RandomForestClassifier().fit(X,y)"
   ]
  },
  {
   "cell_type": "code",
   "execution_count": 23,
   "metadata": {},
   "outputs": [],
   "source": [
    "logX = logReg.predict(X_test)"
   ]
  },
  {
   "cell_type": "code",
   "execution_count": 17,
   "metadata": {},
   "outputs": [],
   "source": [
    "svX = simpleVec.predict(X_test)"
   ]
  },
  {
   "cell_type": "code",
   "execution_count": 18,
   "metadata": {},
   "outputs": [],
   "source": [
    "rfX = rngForest.predict(X_test)"
   ]
  },
  {
   "cell_type": "code",
   "execution_count": 24,
   "metadata": {},
   "outputs": [
    {
     "name": "stdout",
     "output_type": "stream",
     "text": [
      "Logistic Regression accuracy is: 0.9255\n",
      "SVM Classifier accuracy is: 0.9792\n",
      "Random Forest accuracy is: 0.9702\n"
     ]
    }
   ],
   "source": [
    "for foo,bar in zip([logX,svX,rfX],['Logistic Regression','SVM Classifier','Random Forest']):\n",
    "    print(bar, 'accuracy is:',accuracy_score(foo,y_test))"
   ]
  },
  {
   "cell_type": "code",
   "execution_count": 29,
   "metadata": {},
   "outputs": [],
   "source": [
    "def to_MNIST(image):\n",
    "    gray = cv2.cvtColor(image, cv2.COLOR_BGR2GRAY)\n",
    "    correction = np.log(0.5*255)/np.log(np.mean(gray))\n",
    "    gamma = np.power(gray, correction).clip(0,255).astype(np.uint8)\n",
    "    contrast = cv2.convertScaleAbs(gamma, alpha=2.5)\n",
    "    invert = cv2.bitwise_not(contrast)\n",
    "    resized = cv2.resize(invert,(28,28))\n",
    "    return resized"
   ]
  },
  {
   "cell_type": "code",
   "execution_count": null,
   "metadata": {},
   "outputs": [],
   "source": [
    "testImg = cv2.imread('images/itl0.png')"
   ]
  },
  {
   "cell_type": "code",
   "execution_count": 73,
   "metadata": {},
   "outputs": [
    {
     "data": {
      "image/png": "[encoded data removed]",
      "text/plain": [
       "<Figure size 432x288 with 1 Axes>"
      ]
     },
     "metadata": {
      "needs_background": "light"
     },
     "output_type": "display_data"
    }
   ],
   "source": [
    "plt.imshow(to_MNIST(testImg), cmap='gray')\n",
    "plt.show()"
   ]
  },
  {
   "cell_type": "code",
   "execution_count": 30,
   "metadata": {},
   "outputs": [],
   "source": [
    "myNumbers = []\n",
    "for image in os.listdir('images/'):\n",
    "    img = cv2.imread('images/'+image)\n",
    "    myNumbers.append(to_MNIST(img).reshape(784,))"
   ]
  },
  {
   "cell_type": "code",
   "execution_count": 31,
   "metadata": {},
   "outputs": [],
   "source": [
    "myNumbers = np.array(myNumbers)"
   ]
  },
  {
   "cell_type": "code",
   "execution_count": 35,
   "metadata": {},
   "outputs": [],
   "source": [
    "myClass = np.array([foo%10 for foo in range(50)])"
   ]
  },
  {
   "cell_type": "code",
   "execution_count": 34,
   "metadata": {},
   "outputs": [],
   "source": [
    "logPred = logReg.predict(myNumbers)\n",
    "svPred = simpleVec.predict(myNumbers)\n",
    "rfPred = rngForest.predict(myNumbers)"
   ]
  },
  {
   "cell_type": "code",
   "execution_count": 36,
   "metadata": {},
   "outputs": [
    {
     "name": "stdout",
     "output_type": "stream",
     "text": [
      "Logistic Regression accuracy is: 0.32\n",
      "SVM Classifier accuracy is: 0.4\n",
      "Random Forest accuracy is: 0.48\n"
     ]
    }
   ],
   "source": [
    "for foo,bar in zip([logPred,svPred,rfPred],['Logistic Regression','SVM Classifier','Random Forest']):\n",
    "    print(bar, 'accuracy is:',accuracy_score(foo,myClass))"
   ]
  },
  {
   "cell_type": "code",
   "execution_count": 37,
   "metadata": {},
   "outputs": [
    {
     "name": "stdout",
     "output_type": "stream",
     "text": [
      "Logistic Regression \n",
      " [False False  True  True False False False False False False False  True\n",
      " False  True False False  True False False False False  True  True  True\n",
      " False False False False  True False False  True False  True  True  True\n",
      "  True False False False False  True False  True False False False False\n",
      " False False]\n",
      "SVM Classifier \n",
      " [False  True  True  True False  True False False False False  True False\n",
      " False  True  True  True False False False False False  True False False\n",
      " False  True False False False False False  True  True False  True  True\n",
      " False  True False False False  True False False  True  True False  True\n",
      "  True False]\n",
      "Random Forest \n",
      " [False  True  True False  True  True False  True False False  True False\n",
      "  True  True  True  True False False False False  True  True  True False\n",
      " False False False False False False  True  True  True False  True  True\n",
      " False False False False  True  True False  True  True  True False  True\n",
      " False False]\n"
     ]
    }
   ],
   "source": [
    "for foo,bar in zip([logPred,svPred,rfPred],['Logistic Regression','SVM Classifier','Random Forest']):\n",
    "    print(bar, '\\n',foo==myClass)"
   ]
  },
  {
   "cell_type": "code",
   "execution_count": 76,
   "metadata": {},
   "outputs": [],
   "source": [
    "LeNet = keras.models.Sequential([\n",
    "    keras.layers.Conv2D(filters=6, kernel_size=5, activation='relu', padding='same'),\n",
    "    keras.layers.AvgPool2D(pool_size=2, strides=2),\n",
    "    keras.layers.Conv2D(filters=16, kernel_size=5, activation='relu'),\n",
    "    keras.layers.AvgPool2D(pool_size=2, strides=2),\n",
    "    keras.layers.Flatten(),\n",
    "    keras.layers.Dense(120,activation='relu'),\n",
    "    keras.layers.Dense(84, activation='relu'),\n",
    "    keras.layers.Dense(10,activation='softmax')\n",
    "])"
   ]
  },
  {
   "cell_type": "code",
   "execution_count": 78,
   "metadata": {},
   "outputs": [
    {
     "data": {
      "text/plain": [
       "<tensorflow.python.training.tracking.util.CheckpointLoadStatus at 0x19d3481b9d0>"
      ]
     },
     "execution_count": 78,
     "metadata": {},
     "output_type": "execute_result"
    }
   ],
   "source": [
    "## Inserted after model was trained, used for loading model I created\n",
    "LeNet.load_weights('./checkpoints/my_checkpoint')"
   ]
  },
  {
   "cell_type": "code",
   "execution_count": 86,
   "metadata": {},
   "outputs": [
    {
     "name": "stdout",
     "output_type": "stream",
     "text": [
      "Conv2D output shape: \t (1, 28, 28, 6)\n",
      "AveragePooling2D output shape: \t (1, 14, 14, 6)\n",
      "Conv2D output shape: \t (1, 10, 10, 16)\n",
      "AveragePooling2D output shape: \t (1, 5, 5, 16)\n",
      "Flatten output shape: \t (1, 400)\n",
      "Dense output shape: \t (1, 120)\n",
      "Dense output shape: \t (1, 84)\n",
      "Dense output shape: \t (1, 10)\n"
     ]
    }
   ],
   "source": [
    "X_bar = tf.random.uniform((1, 28, 28, 1))\n",
    "for layer in LeNet.layers:\n",
    "    X_bar = layer(X_bar)\n",
    "    print(layer.__class__.__name__, 'output shape: \\t', X_bar.shape)"
   ]
  },
  {
   "cell_type": "code",
   "execution_count": 77,
   "metadata": {},
   "outputs": [],
   "source": [
    "LeNet.compile(\n",
    "    optimizer = 'adam',\n",
    "    loss=keras.losses.sparse_categorical_crossentropy,\n",
    "    metrics=['accuracy']\n",
    ")"
   ]
  },
  {
   "cell_type": "code",
   "execution_count": 89,
   "metadata": {},
   "outputs": [],
   "source": [
    "testX2D = X_test.reshape(10000,28,28)"
   ]
  },
  {
   "cell_type": "code",
   "execution_count": 88,
   "metadata": {},
   "outputs": [
    {
     "data": {
      "text/plain": [
       "(10000, 784)"
      ]
     },
     "execution_count": 88,
     "metadata": {},
     "output_type": "execute_result"
    }
   ],
   "source": [
    "X_test.shape"
   ]
  },
  {
   "cell_type": "code",
   "execution_count": 140,
   "metadata": {},
   "outputs": [],
   "source": [
    "cnnX = tf.expand_dims(forPlot, 3)\n",
    "cnnTest = tf.expand_dims(testX2D, 3)\n",
    "newX = tf.cast(cnnX,tf.float32)\n",
    "newTrain = tf.cast(cnnTest,tf.float32)\n",
    "newX /= 255\n",
    "newTrain /=255"
   ]
  },
  {
   "cell_type": "code",
   "execution_count": 138,
   "metadata": {},
   "outputs": [],
   "source": [
    "tf.config.run_functions_eagerly(True)"
   ]
  },
  {
   "cell_type": "code",
   "execution_count": 148,
   "metadata": {},
   "outputs": [
    {
     "name": "stdout",
     "output_type": "stream",
     "text": [
      "Epoch 1/7\n",
      "1875/1875 [==============================] - 30s 16ms/step - loss: 0.2189 - accuracy: 0.9337 - val_loss: 0.0732 - val_accuracy: 0.9772\n",
      "Epoch 2/7\n",
      "1875/1875 [==============================] - 30s 16ms/step - loss: 0.0704 - accuracy: 0.9780 - val_loss: 0.0570 - val_accuracy: 0.9797\n",
      "Epoch 3/7\n",
      "1875/1875 [==============================] - 31s 17ms/step - loss: 0.0500 - accuracy: 0.9840 - val_loss: 0.0414 - val_accuracy: 0.9860\n",
      "Epoch 4/7\n",
      "1875/1875 [==============================] - 31s 16ms/step - loss: 0.0402 - accuracy: 0.9880 - val_loss: 0.0390 - val_accuracy: 0.9869\n",
      "Epoch 5/7\n",
      "1875/1875 [==============================] - 31s 16ms/step - loss: 0.0337 - accuracy: 0.9889 - val_loss: 0.0385 - val_accuracy: 0.9886\n",
      "Epoch 6/7\n",
      "1875/1875 [==============================] - 30s 16ms/step - loss: 0.0268 - accuracy: 0.9919 - val_loss: 0.0294 - val_accuracy: 0.9905\n",
      "Epoch 7/7\n",
      "1875/1875 [==============================] - 30s 16ms/step - loss: 0.0229 - accuracy: 0.9928 - val_loss: 0.0356 - val_accuracy: 0.9886\n"
     ]
    },
    {
     "data": {
      "text/plain": [
       "<keras.callbacks.History at 0x1a00a84c8b0>"
      ]
     },
     "execution_count": 148,
     "metadata": {},
     "output_type": "execute_result"
    }
   ],
   "source": [
    "LeNet.fit(newX,y,epochs=7,validation_data=(newTrain,y_test))"
   ]
  },
  {
   "cell_type": "code",
   "execution_count": 149,
   "metadata": {},
   "outputs": [],
   "source": [
    "LeNet.save_weights('./checkpoints/my_checkpoint')"
   ]
  },
  {
   "cell_type": "code",
   "execution_count": 68,
   "metadata": {},
   "outputs": [],
   "source": [
    "newTest = tf.cast(tf.expand_dims(X_test.reshape(10000,28,28),3),tf.float32)\n",
    "newTest /= 255\n",
    "tfMine = tf.cast(tf.expand_dims(myNumbers.reshape(50,28,28),3),tf.float32)\n",
    "tfMine /= 255"
   ]
  },
  {
   "cell_type": "code",
   "execution_count": 165,
   "metadata": {},
   "outputs": [
    {
     "name": "stdout",
     "output_type": "stream",
     "text": [
      "313/313 [==============================] - 2s 6ms/step - loss: 0.0356 - accuracy: 0.9886\n"
     ]
    },
    {
     "data": {
      "text/plain": [
       "[0.035646095871925354, 0.9886000156402588]"
      ]
     },
     "execution_count": 165,
     "metadata": {},
     "output_type": "execute_result"
    }
   ],
   "source": [
    "LeNet.evaluate(newTest,y_test)"
   ]
  },
  {
   "cell_type": "code",
   "execution_count": 166,
   "metadata": {},
   "outputs": [
    {
     "name": "stdout",
     "output_type": "stream",
     "text": [
      "2/2 [==============================] - 0s 6ms/step - loss: 0.9984 - accuracy: 0.7000\n"
     ]
    },
    {
     "data": {
      "text/plain": [
       "[0.9983664751052856, 0.699999988079071]"
      ]
     },
     "execution_count": 166,
     "metadata": {},
     "output_type": "execute_result"
    }
   ],
   "source": [
    "LeNet.evaluate(tfMine,myClass)"
   ]
  },
  {
   "cell_type": "code",
   "execution_count": 27,
   "metadata": {},
   "outputs": [
    {
     "ename": "NameError",
     "evalue": "name 'myNumbers' is not defined",
     "output_type": "error",
     "traceback": [
      "\u001b[1;31m---------------------------------------------------------------------------\u001b[0m",
      "\u001b[1;31mNameError\u001b[0m                                 Traceback (most recent call last)",
      "\u001b[1;32m<ipython-input-27-53f78c59766f>\u001b[0m in \u001b[0;36m<module>\u001b[1;34m\u001b[0m\n\u001b[1;32m----> 1\u001b[1;33m \u001b[0mlogPred2\u001b[0m \u001b[1;33m=\u001b[0m \u001b[0mlogReg\u001b[0m\u001b[1;33m.\u001b[0m\u001b[0mpredict\u001b[0m\u001b[1;33m(\u001b[0m\u001b[0mmyNumbers\u001b[0m\u001b[1;33m)\u001b[0m\u001b[1;33m\u001b[0m\u001b[1;33m\u001b[0m\u001b[0m\n\u001b[0m\u001b[0;32m      2\u001b[0m \u001b[0msvPred2\u001b[0m \u001b[1;33m=\u001b[0m \u001b[0msimpleVec\u001b[0m\u001b[1;33m.\u001b[0m\u001b[0mpredict\u001b[0m\u001b[1;33m(\u001b[0m\u001b[0mmyNumbers\u001b[0m\u001b[1;33m)\u001b[0m\u001b[1;33m\u001b[0m\u001b[1;33m\u001b[0m\u001b[0m\n\u001b[0;32m      3\u001b[0m \u001b[0mrfPred2\u001b[0m \u001b[1;33m=\u001b[0m \u001b[0mrngForest\u001b[0m\u001b[1;33m.\u001b[0m\u001b[0mpredict\u001b[0m\u001b[1;33m(\u001b[0m\u001b[0mmyNumbers\u001b[0m\u001b[1;33m)\u001b[0m\u001b[1;33m\u001b[0m\u001b[1;33m\u001b[0m\u001b[0m\n",
      "\u001b[1;31mNameError\u001b[0m: name 'myNumbers' is not defined"
     ]
    }
   ],
   "source": [
    "logPred2 = logReg.predict(myNumbers[1:10])\n",
    "svPred2 = simpleVec.predict(myNumbers)\n",
    "rfPred2 = rngForest.predict(myNumbers)"
   ]
  },
  {
   "cell_type": "code",
   "execution_count": 54,
   "metadata": {},
   "outputs": [],
   "source": [
    "fontNames = ['Serif','Italics','Regular','Digital','Swirl']"
   ]
  },
  {
   "cell_type": "code",
   "execution_count": 86,
   "metadata": {},
   "outputs": [
    {
     "name": "stdout",
     "output_type": "stream",
     "text": [
      "FONT: Serif\n",
      "1/1 [==============================] - 0s 15ms/step - loss: 1.0458 - accuracy: 0.7000\n",
      "LeNet accuracy: 0.700000\n",
      "Logistic Regression accuracy is: 0.2\n",
      "SVM Classifier accuracy is: 0.4\n",
      "Random Forest accuracy is: 0.5\n",
      "Total accuracy is: 0.450000\n",
      "\n",
      "\n",
      "FONT: Italics\n",
      "1/1 [==============================] - 0s 14ms/step - loss: 0.3633 - accuracy: 0.8000\n",
      "LeNet accuracy: 0.800000\n",
      "Logistic Regression accuracy is: 0.3\n",
      "SVM Classifier accuracy is: 0.4\n",
      "Random Forest accuracy is: 0.5\n",
      "Total accuracy is: 0.500000\n",
      "\n",
      "\n",
      "FONT: Regular\n",
      "1/1 [==============================] - 0s 14ms/step - loss: 0.9632 - accuracy: 0.7000\n",
      "LeNet accuracy: 0.700000\n",
      "Logistic Regression accuracy is: 0.4\n",
      "SVM Classifier accuracy is: 0.2\n",
      "Random Forest accuracy is: 0.3\n",
      "Total accuracy is: 0.400000\n",
      "\n",
      "\n",
      "FONT: Digital\n",
      "1/1 [==============================] - 0s 13ms/step - loss: 1.1168 - accuracy: 0.7000\n",
      "LeNet accuracy: 0.700000\n",
      "Logistic Regression accuracy is: 0.5\n",
      "SVM Classifier accuracy is: 0.5\n",
      "Random Forest accuracy is: 0.5\n",
      "Total accuracy is: 0.550000\n",
      "\n",
      "\n",
      "FONT: Swirl\n",
      "1/1 [==============================] - 0s 16ms/step - loss: 1.5028 - accuracy: 0.6000\n",
      "LeNet accuracy: 0.600000\n",
      "Logistic Regression accuracy is: 0.2\n",
      "SVM Classifier accuracy is: 0.5\n",
      "Random Forest accuracy is: 0.6\n",
      "Total accuracy is: 0.475000\n",
      "\n",
      "\n"
     ]
    }
   ],
   "source": [
    "for i in range(5):\n",
    "    data = myNumbers[i*10:(i+1)*10]\n",
    "    print(\"FONT: %s\"%fontNames[i])\n",
    "    totalAvg = []\n",
    "    data2 = tfMine[i*10:(i+1)*10]\n",
    "    loog = np.array(range(10))\n",
    "    acc = LeNet.evaluate(data2,loog)\n",
    "    print(\"LeNet accuracy: %f\"%(acc[1]))\n",
    "    totalAvg.append(acc[1])\n",
    "    huh = [logReg.predict(data),simpleVec.predict(data),rngForest.predict(data)]    \n",
    "    for foo,bar in zip(huh,['Logistic Regression','SVM Classifier','Random Forest']):\n",
    "        bees = accuracy_score(range(10),foo)\n",
    "        print(bar, 'accuracy is:',bees)\n",
    "        totalAvg.append(bees)\n",
    "    print('Total accuracy is: %f'%(np.mean(totalAvg)))\n",
    "    print(f'\\n')"
   ]
  },
  {
   "cell_type": "code",
   "execution_count": 85,
   "metadata": {},
   "outputs": [
    {
     "name": "stdout",
     "output_type": "stream",
     "text": [
      "FONT: Serif\n",
      "1/1 [==============================] - 1s 1s/step - loss: 1.0458 - accuracy: 0.7000\n",
      "LeNet accuracy: 0.700000\n",
      "FONT: Italics\n",
      "1/1 [==============================] - 0s 13ms/step - loss: 0.3633 - accuracy: 0.8000\n",
      "LeNet accuracy: 0.800000\n",
      "FONT: Regular\n",
      "1/1 [==============================] - 0s 13ms/step - loss: 0.9632 - accuracy: 0.7000\n",
      "LeNet accuracy: 0.700000\n",
      "FONT: Digital\n",
      "1/1 [==============================] - 0s 13ms/step - loss: 1.1168 - accuracy: 0.7000\n",
      "LeNet accuracy: 0.700000\n",
      "FONT: Swirl\n",
      "1/1 [==============================] - 0s 13ms/step - loss: 1.5028 - accuracy: 0.6000\n",
      "LeNet accuracy: 0.600000\n"
     ]
    }
   ],
   "source": [
    "for i in range(5):\n",
    "    print(\"FONT: %s\"%fontNames[i])\n",
    "    data = tfMine[i*10:(i+1)*10]\n",
    "    loog = np.array(range(10))\n",
    "    acc = LeNet.evaluate(data,loog)\n",
    "    print(\"LeNet accuracy: %f\"%(acc[1]))"
   ]
  }
 ],
 "metadata": {
  "kernelspec": {
   "display_name": "Python 3",
   "language": "python",
   "name": "python3"
  },
  "language_info": {
   "codemirror_mode": {
    "name": "ipython",
    "version": 3
   },
   "file_extension": ".py",
   "mimetype": "text/x-python",
   "name": "python",
   "nbconvert_exporter": "python",
   "pygments_lexer": "ipython3",
   "version": "3.8.3"
  }
 },
 "nbformat": 4,
 "nbformat_minor": 4
}
